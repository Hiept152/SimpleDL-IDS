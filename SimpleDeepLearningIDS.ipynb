{
  "cells": [
    {
      "cell_type": "code",
      "execution_count": 35,
      "metadata": {
        "id": "ryxC2UdJzVwT"
      },
      "outputs": [],
      "source": [
        "# Importing necessary libraries\n",
        "import numpy as np\n",
        "import pandas as pd\n",
        "from sklearn.model_selection import train_test_split\n",
        "from sklearn.ensemble import RandomForestClassifier\n",
        "from sklearn.metrics import accuracy_score\n",
        "import tensorflow as tf\n",
        "from tensorflow.keras.models import Sequential\n",
        "from tensorflow.keras.layers import LSTM, Dense\n"
      ]
    },
    {
      "cell_type": "code",
      "execution_count": 36,
      "metadata": {
        "id": "Dok6IG-M5cpk"
      },
      "outputs": [],
      "source": [
        "# Load the dataset (replace 'dataset.csv' with your actual dataset file)\n",
        "# You will need: \"CIC-IDS2017\" dataset from the \"MachineLearningCVE\" folder. https://www.unb.ca/cic/datasets/ids-2017.html (As of: 5/7/2024)\n",
        "data = pd.read_csv('Monday-WorkingHoursCVE.pcap_ISCX.csv') #I edited my filename to 'Monday-WorkingHoursCVE.pcap_ISCX.csv' from 'Monday-WorkingHours.pcap_ISCX.csv'\n"
      ]
    },
    {
      "cell_type": "code",
      "execution_count": 37,
      "metadata": {
        "id": "ZSXnqpCX5h4e"
      },
      "outputs": [],
      "source": [
        "# Data preprocessing\n",
        "# Assuming the dataset has features X and labels y\n",
        "X = data.drop(' Label', axis=1)\n",
        "y = data[' Label']\n"
      ]
    },
    {
      "cell_type": "code",
      "execution_count": 38,
      "metadata": {
        "id": "VLRp5rmd5ohr"
      },
      "outputs": [],
      "source": [
        "# Splitting the data into training and testing sets\n",
        "X_train, X_test, y_train, y_test = train_test_split(X, y, test_size=0.2, random_state=42)\n"
      ]
    },
    {
      "cell_type": "code",
      "execution_count": 40,
      "metadata": {
        "id": "Gdbw0OHI5sGs"
      },
      "outputs": [],
      "source": [
        "# Building the RNN model\n",
        "model = Sequential()\n",
        "model.add(LSTM(units=64, input_shape=(X_train.shape[1], 1)))\n",
        "model.add(Dense(units=32, activation='relu'))\n",
        "model.add(Dense(units=len(y.unique()), activation='softmax'))  # Adjust units for multiclass classification\n",
        "model.compile(loss='sparse_categorical_crossentropy', optimizer='adam', metrics=['accuracy'])\n"
      ]
    },
    {
      "cell_type": "code",
      "execution_count": null,
      "metadata": {
        "colab": {
          "base_uri": "https://localhost:8080/"
        },
        "id": "eL550bng5vbZ",
        "outputId": "a16b6a90-1abd-407d-9e6e-e99c88b5dba5"
      },
      "outputs": [],
      "source": [
        "# Training the RNN model\n",
        "model.fit(np.expand_dims(X_train, axis=-1), y_train, epochs=10, batch_size=32, validation_split=0.2)\n"
      ]
    },
    {
      "cell_type": "code",
      "execution_count": null,
      "metadata": {
        "colab": {
          "base_uri": "https://localhost:8080/"
        },
        "id": "hw99e0pA5yjn",
        "outputId": "39dbb668-bc1c-4040-8ba6-0fb168adf802"
      },
      "outputs": [],
      "source": [
        "# Evaluating the RNN model\n",
        "_, accuracy = model.evaluate(np.expand_dims(X_test, axis=-1), y_test)\n",
        "print(f\"RNN Model Accuracy: {accuracy}\")\n"
      ]
    },
    {
      "cell_type": "code",
      "execution_count": null,
      "metadata": {
        "colab": {
          "base_uri": "https://localhost:8080/",
          "height": 391
        },
        "id": "6BVBWWZG503G",
        "outputId": "fbb10cdd-4ead-4c54-aae5-9e76675cc2ec"
      },
      "outputs": [],
      "source": [
        "# Integrating Random Forest Algorithm as a multiclassifier\n",
        "rf_classifier = RandomForestClassifier(n_estimators=100)\n",
        "rf_classifier.fit(X_train, y_train)\n"
      ]
    },
    {
      "cell_type": "code",
      "execution_count": null,
      "metadata": {
        "id": "EQVrRJlj52gR"
      },
      "outputs": [],
      "source": [
        "# Testing the integrated model\n",
        "rf_predictions = rf_classifier.predict(X_test)\n",
        "rf_accuracy = accuracy_score(y_test, rf_predictions)\n",
        "print(f\"Random Forest Model Accuracy: {rf_accuracy}\")\n"
      ]
    }
  ],
  "metadata": {
    "colab": {
      "provenance": []
    },
    "kernelspec": {
      "display_name": "Python 3",
      "name": "python3"
    },
    "language_info": {
      "name": "python"
    }
  },
  "nbformat": 4,
  "nbformat_minor": 0
}
