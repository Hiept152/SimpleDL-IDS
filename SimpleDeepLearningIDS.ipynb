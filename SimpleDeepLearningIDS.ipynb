{
  "nbformat": 4,
  "nbformat_minor": 0,
  "metadata": {
    "colab": {
      "provenance": []
    },
    "kernelspec": {
      "name": "python3",
      "display_name": "Python 3"
    },
    "language_info": {
      "name": "python"
    }
  },
  "cells": [
    {
      "cell_type": "code",
      "execution_count": 1,
      "metadata": {
        "id": "ryxC2UdJzVwT"
      },
      "outputs": [],
      "source": [
        "# Importing necessary libraries\n",
        "import numpy as np\n",
        "import pandas as pd\n",
        "from sklearn.model_selection import train_test_split\n",
        "from sklearn.ensemble import RandomForestClassifier\n",
        "from sklearn.metrics import accuracy_score\n",
        "import tensorflow as tf\n",
        "from tensorflow.keras.models import Sequential\n",
        "from tensorflow.keras.layers import LSTM, Dense\n",
        "\n"
      ]
    },
    {
      "cell_type": "code",
      "source": [
        "# Load the dataset (replace 'dataset.csv' with your actual dataset file)\n",
        "data = pd.read_csv('Monday-WorkingHoursCVE.pcap_ISCX.csv')\n"
      ],
      "metadata": {
        "id": "Dok6IG-M5cpk"
      },
      "execution_count": 3,
      "outputs": []
    },
    {
      "cell_type": "code",
      "source": [
        "# Data preprocessing\n",
        "# Assuming the dataset has features X and labels y\n",
        "X = data.drop(' Label', axis=1)\n",
        "y = data[' Label']\n"
      ],
      "metadata": {
        "id": "ZSXnqpCX5h4e"
      },
      "execution_count": 37,
      "outputs": []
    },
    {
      "cell_type": "code",
      "source": [
        "# Splitting the data into training and testing sets\n",
        "X_train, X_test, y_train, y_test = train_test_split(X, y, test_size=0.2, random_state=42)\n"
      ],
      "metadata": {
        "id": "VLRp5rmd5ohr"
      },
      "execution_count": 38,
      "outputs": []
    },
    {
      "cell_type": "code",
      "source": [
        "# Building the Random Forest preprocessor\n",
        "rf_preprocessor = RandomForestClassifier(n_estimators=100)\n",
        "rf_preprocessor.fit(X_train, y_train)"
      ],
      "metadata": {
        "id": "-jJgWCRaXsnP"
      },
      "execution_count": null,
      "outputs": []
    },
    {
      "cell_type": "code",
      "source": [
        "# Transforming the data using the Random Forest preprocessor\n",
        "X_train_rf = rf_preprocessor.transform(X_train)\n",
        "X_test_rf = rf_preprocessor.transform(X_test)"
      ],
      "metadata": {
        "id": "UERbJxCCXwBg"
      },
      "execution_count": null,
      "outputs": []
    },
    {
      "cell_type": "code",
      "source": [
        "# Building the RNN model\n",
        "model = Sequential()\n",
        "model.add(LSTM(units=64, input_shape=(X_train_rf.shape[1], 1)))\n",
        "model.add(Dense(units=32, activation='relu'))\n",
        "model.add(Dense(units=len(y.unique()), activation='softmax'))  # Adjust units for multiclass classification\n",
        "model.compile(loss='sparse_categorical_crossentropy', optimizer='adam', metrics=['accuracy'])\n"
      ],
      "metadata": {
        "id": "Gdbw0OHI5sGs"
      },
      "execution_count": 40,
      "outputs": []
    },
    {
      "cell_type": "code",
      "source": [
        "# Training the RNN model\n",
        "model.fit(np.expand_dims(X_train_rf, axis=-1), y_train, epochs=10, batch_size=32, validation_split=0.2)\n"
      ],
      "metadata": {
        "id": "eL550bng5vbZ"
      },
      "execution_count": null,
      "outputs": []
    },
    {
      "cell_type": "code",
      "source": [
        "# Evaluating the RNN model with preprocessed data\n",
        "X_test_rf = rf_preprocessor.transform(X_test)  # Transform test data\n",
        "_, accuracy = model.evaluate(np.expand_dims(X_test_rf, axis=-1), y_test)\n",
        "print(f\"RNN Model Accuracy with Random Forest Preprocessing: {accuracy}\")"
      ],
      "metadata": {
        "id": "hw99e0pA5yjn"
      },
      "execution_count": null,
      "outputs": []
    }
  ]
}
